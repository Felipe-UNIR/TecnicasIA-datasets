{
 "cells": [
  {
   "cell_type": "markdown",
   "id": "de1406ba",
   "metadata": {},
   "source": [
    "<img src=\"https://www.unir.net/wp-content/uploads/2019/11/Unir_2021_logo.svg\" width=\"240\" height=\"240\" align=\"right\"/>"
   ]
  },
  {
   "cell_type": "markdown",
   "id": "8b6f603c",
   "metadata": {},
   "source": [
    "<center><h1>Técnicas de Inteligencia Artificial</header1></center>\n",
    "<left><h1>Actividad 1. Laboratorio: Árboles de decisión, reglas y ensemble learning</header1></left>"
   ]
  },
  {
   "cell_type": "markdown",
   "id": "3eb1aaac",
   "metadata": {},
   "source": [
    "Presentado por: Carlos Felipe Pimienta Moreno  <br>\n",
    "Fecha: 19/05/2024"
   ]
  },
  {
   "cell_type": "markdown",
   "id": "7f868eab",
   "metadata": {},
   "source": [
    "## Explique el problema a resolver. \n",
    "Descripción del problema. Tipo de problema (justifique). Variable objetivo, variables de entrada. Utilidad de su posible solución. Elementos adicionales que considere relevantes:"
   ]
  },
  {
   "cell_type": "markdown",
   "id": "1dec299b",
   "metadata": {
    "ExecuteTime": {
     "end_time": "2022-03-14T15:14:04.930713Z",
     "start_time": "2022-03-14T15:14:04.921682Z"
    }
   },
   "source": [
    "## Importación de librerias necesarias"
   ]
  },
  {
   "cell_type": "code",
   "execution_count": 1,
   "id": "6d1abf7a",
   "metadata": {
    "ExecuteTime": {
     "end_time": "2022-03-14T15:14:46.228059Z",
     "start_time": "2022-03-14T15:14:46.223108Z"
    }
   },
   "outputs": [
    {
     "ename": "ModuleNotFoundError",
     "evalue": "No module named 'pydotplus'",
     "output_type": "error",
     "traceback": [
      "\u001b[1;31m---------------------------------------------------------------------------\u001b[0m",
      "\u001b[1;31mModuleNotFoundError\u001b[0m                       Traceback (most recent call last)",
      "Cell \u001b[1;32mIn[1], line 21\u001b[0m\n\u001b[0;32m     19\u001b[0m \u001b[38;5;28;01mfrom\u001b[39;00m \u001b[38;5;21;01msklearn\u001b[39;00m\u001b[38;5;21;01m.\u001b[39;00m\u001b[38;5;21;01mmetrics\u001b[39;00m \u001b[38;5;28;01mimport\u001b[39;00m recall_score, f1_score\n\u001b[0;32m     20\u001b[0m \u001b[38;5;28;01mfrom\u001b[39;00m \u001b[38;5;21;01msklearn\u001b[39;00m \u001b[38;5;28;01mimport\u001b[39;00m tree\n\u001b[1;32m---> 21\u001b[0m \u001b[38;5;28;01mimport\u001b[39;00m \u001b[38;5;21;01mpydotplus\u001b[39;00m\n\u001b[0;32m     22\u001b[0m \u001b[38;5;28;01mfrom\u001b[39;00m \u001b[38;5;21;01msklearn\u001b[39;00m \u001b[38;5;28;01mimport\u001b[39;00m metrics\n\u001b[0;32m     23\u001b[0m \u001b[38;5;28;01mfrom\u001b[39;00m \u001b[38;5;21;01mmlxtend\u001b[39;00m\u001b[38;5;21;01m.\u001b[39;00m\u001b[38;5;21;01mplotting\u001b[39;00m \u001b[38;5;28;01mimport\u001b[39;00m plot_confusion_matrix\n",
      "\u001b[1;31mModuleNotFoundError\u001b[0m: No module named 'pydotplus'"
     ]
    }
   ],
   "source": [
    "#Para esta actividad se importarán las siguientes librerías:\n",
    "import numpy as np\n",
    "import pandas as pd\n",
    "from matplotlib import pyplot\n",
    "import matplotlib.pyplot as plt\n",
    "import matplotlib.image as pltimg\n",
    "from sklearn import preprocessing\n",
    "plt.style.use('ggplot')\n",
    "from sklearn.model_selection import train_test_split\n",
    "from sklearn.model_selection import cross_val_score\n",
    "from sklearn.model_selection import StratifiedKFold\n",
    "from sklearn.tree import DecisionTreeClassifier\n",
    "from sklearn.linear_model import LogisticRegression\n",
    "from sklearn.metrics import classification_report\n",
    "from sklearn.metrics import confusion_matrix\n",
    "from sklearn.metrics import accuracy_score\n",
    "from sklearn.metrics import accuracy_score\n",
    "from sklearn.metrics import precision_score\n",
    "from sklearn.metrics import recall_score, f1_score\n",
    "from sklearn import tree\n",
    "import pydotplus\n",
    "from sklearn import metrics\n",
    "from mlxtend.plotting import plot_confusion_matrix\n"
   ]
  },
  {
   "cell_type": "markdown",
   "id": "6a44b924",
   "metadata": {},
   "source": [
    "## Cargar el Dataset"
   ]
  },
  {
   "cell_type": "code",
   "execution_count": 2,
   "id": "3541e808",
   "metadata": {},
   "outputs": [
    {
     "data": {
      "text/html": [
       "<div>\n",
       "<style scoped>\n",
       "    .dataframe tbody tr th:only-of-type {\n",
       "        vertical-align: middle;\n",
       "    }\n",
       "\n",
       "    .dataframe tbody tr th {\n",
       "        vertical-align: top;\n",
       "    }\n",
       "\n",
       "    .dataframe thead th {\n",
       "        text-align: right;\n",
       "    }\n",
       "</style>\n",
       "<table border=\"1\" class=\"dataframe\">\n",
       "  <thead>\n",
       "    <tr style=\"text-align: right;\">\n",
       "      <th></th>\n",
       "      <th>Buying</th>\n",
       "      <th>Maintenance</th>\n",
       "      <th>Doors</th>\n",
       "      <th>Person</th>\n",
       "      <th>lug_boot</th>\n",
       "      <th>safety</th>\n",
       "      <th>class</th>\n",
       "    </tr>\n",
       "  </thead>\n",
       "  <tbody>\n",
       "    <tr>\n",
       "      <th>0</th>\n",
       "      <td>vhigh</td>\n",
       "      <td>vhigh</td>\n",
       "      <td>2</td>\n",
       "      <td>2</td>\n",
       "      <td>small</td>\n",
       "      <td>low</td>\n",
       "      <td>unacc</td>\n",
       "    </tr>\n",
       "    <tr>\n",
       "      <th>1</th>\n",
       "      <td>vhigh</td>\n",
       "      <td>vhigh</td>\n",
       "      <td>2</td>\n",
       "      <td>2</td>\n",
       "      <td>small</td>\n",
       "      <td>med</td>\n",
       "      <td>unacc</td>\n",
       "    </tr>\n",
       "    <tr>\n",
       "      <th>2</th>\n",
       "      <td>vhigh</td>\n",
       "      <td>vhigh</td>\n",
       "      <td>2</td>\n",
       "      <td>2</td>\n",
       "      <td>small</td>\n",
       "      <td>high</td>\n",
       "      <td>unacc</td>\n",
       "    </tr>\n",
       "    <tr>\n",
       "      <th>3</th>\n",
       "      <td>vhigh</td>\n",
       "      <td>vhigh</td>\n",
       "      <td>2</td>\n",
       "      <td>2</td>\n",
       "      <td>med</td>\n",
       "      <td>low</td>\n",
       "      <td>unacc</td>\n",
       "    </tr>\n",
       "    <tr>\n",
       "      <th>4</th>\n",
       "      <td>vhigh</td>\n",
       "      <td>vhigh</td>\n",
       "      <td>2</td>\n",
       "      <td>2</td>\n",
       "      <td>med</td>\n",
       "      <td>med</td>\n",
       "      <td>unacc</td>\n",
       "    </tr>\n",
       "    <tr>\n",
       "      <th>...</th>\n",
       "      <td>...</td>\n",
       "      <td>...</td>\n",
       "      <td>...</td>\n",
       "      <td>...</td>\n",
       "      <td>...</td>\n",
       "      <td>...</td>\n",
       "      <td>...</td>\n",
       "    </tr>\n",
       "    <tr>\n",
       "      <th>1745</th>\n",
       "      <td>low</td>\n",
       "      <td>low</td>\n",
       "      <td>5more</td>\n",
       "      <td>more</td>\n",
       "      <td>med</td>\n",
       "      <td>high</td>\n",
       "      <td>vgood</td>\n",
       "    </tr>\n",
       "    <tr>\n",
       "      <th>1746</th>\n",
       "      <td>low</td>\n",
       "      <td>low</td>\n",
       "      <td>5more</td>\n",
       "      <td>more</td>\n",
       "      <td>med</td>\n",
       "      <td>high</td>\n",
       "      <td>vgood</td>\n",
       "    </tr>\n",
       "    <tr>\n",
       "      <th>1747</th>\n",
       "      <td>low</td>\n",
       "      <td>low</td>\n",
       "      <td>5more</td>\n",
       "      <td>more</td>\n",
       "      <td>big</td>\n",
       "      <td>low</td>\n",
       "      <td>unacc</td>\n",
       "    </tr>\n",
       "    <tr>\n",
       "      <th>1748</th>\n",
       "      <td>low</td>\n",
       "      <td>low</td>\n",
       "      <td>5more</td>\n",
       "      <td>more</td>\n",
       "      <td>big</td>\n",
       "      <td>med</td>\n",
       "      <td>good</td>\n",
       "    </tr>\n",
       "    <tr>\n",
       "      <th>1749</th>\n",
       "      <td>low</td>\n",
       "      <td>low</td>\n",
       "      <td>5more</td>\n",
       "      <td>more</td>\n",
       "      <td>big</td>\n",
       "      <td>high</td>\n",
       "      <td>vgood</td>\n",
       "    </tr>\n",
       "  </tbody>\n",
       "</table>\n",
       "<p>1750 rows × 7 columns</p>\n",
       "</div>"
      ],
      "text/plain": [
       "     Buying Maintenance  Doors Person lug_boot safety  class\n",
       "0     vhigh       vhigh      2      2    small    low  unacc\n",
       "1     vhigh       vhigh      2      2    small    med  unacc\n",
       "2     vhigh       vhigh      2      2    small   high  unacc\n",
       "3     vhigh       vhigh      2      2      med    low  unacc\n",
       "4     vhigh       vhigh      2      2      med    med  unacc\n",
       "...     ...         ...    ...    ...      ...    ...    ...\n",
       "1745    low         low  5more   more      med   high  vgood\n",
       "1746    low         low  5more   more      med   high  vgood\n",
       "1747    low         low  5more   more      big    low  unacc\n",
       "1748    low         low  5more   more      big    med   good\n",
       "1749    low         low  5more   more      big   high  vgood\n",
       "\n",
       "[1750 rows x 7 columns]"
      ]
     },
     "execution_count": 2,
     "metadata": {},
     "output_type": "execute_result"
    }
   ],
   "source": [
    "df = pd.read_csv('https://raw.githubusercontent.com/Felipe-UNIR/TecnicasIA-datasets/main/Laboratorio_dataset_car.csv',sep=';')\n",
    "df"
   ]
  },
  {
   "cell_type": "markdown",
   "id": "5a2f72ee",
   "metadata": {},
   "source": [
    "Número de instancias en total"
   ]
  },
  {
   "cell_type": "code",
   "execution_count": 3,
   "id": "55ab7df0",
   "metadata": {},
   "outputs": [
    {
     "data": {
      "text/plain": [
       "1750"
      ]
     },
     "execution_count": 3,
     "metadata": {},
     "output_type": "execute_result"
    }
   ],
   "source": [
    "df.shape[0]"
   ]
  },
  {
   "cell_type": "code",
   "execution_count": 4,
   "id": "4b5e6b6f",
   "metadata": {},
   "outputs": [
    {
     "name": "stdout",
     "output_type": "stream",
     "text": [
      "Buying: ['high' 'low' 'med' 'vhigh']\n",
      "Maintenance: ['high' 'low' 'med' 'vhigh']\n",
      "Doors: ['2' '3' '4' '5more']\n",
      "Person: ['2' '4' 'more']\n",
      "lug_boot: ['big' 'med' 'small']\n",
      "safety: ['high' 'low' 'med']\n",
      "class: ['acc' 'good' 'unacc' 'vgood']\n"
     ]
    }
   ],
   "source": [
    "comprar = np.unique(df['Buying'])\n",
    "print(f'Buying: {comprar}')\n",
    "\n",
    "mantenimiento = np.unique(df['Maintenance'])\n",
    "print(f'Maintenance: {mantenimiento}')\n",
    "\n",
    "puertas = np.unique(df['Doors'])\n",
    "print(f'Doors: {puertas}')\n",
    "\n",
    "personas = np.unique(df['Person'])\n",
    "print(f'Person: {personas}')\n",
    "\n",
    "maletero = np.unique(df['lug_boot'])\n",
    "print(f'lug_boot: {maletero}')\n",
    "\n",
    "seguridad = np.unique(df['safety'])\n",
    "print(f'safety: {seguridad}')\n",
    "\n",
    "clases = np.unique(df['class'])\n",
    "print(f'class: {clases}')"
   ]
  },
  {
   "cell_type": "markdown",
   "id": "ece5beca",
   "metadata": {
    "ExecuteTime": {
     "end_time": "2022-03-14T15:52:20.156185Z",
     "start_time": "2022-03-14T15:52:20.150187Z"
    }
   },
   "source": [
    "## Preprocesamiento del dataset. Transformaciones previas necesarias para la modelación"
   ]
  },
  {
   "cell_type": "code",
   "execution_count": 5,
   "id": "fd41096b",
   "metadata": {},
   "outputs": [
    {
     "name": "stdout",
     "output_type": "stream",
     "text": [
      "class\n",
      "unacc    1215\n",
      "acc       390\n",
      "good       75\n",
      "vgood      70\n",
      "Name: count, dtype: int64\n",
      "Caracteristicas Originales:  [['vhigh' 'vhigh' '2' '2' 'small' 'low']\n",
      " ['vhigh' 'vhigh' '2' '2' 'small' 'med']\n",
      " ['vhigh' 'vhigh' '2' '2' 'small' 'high']\n",
      " ...\n",
      " ['low' 'low' '5more' 'more' 'big' 'low']\n",
      " ['low' 'low' '5more' 'more' 'big' 'med']\n",
      " ['low' 'low' '5more' 'more' 'big' 'high']]\n"
     ]
    }
   ],
   "source": [
    "clase = df['class'].value_counts()\n",
    "print (clase)\n",
    "\n",
    "x = df[['Buying','Maintenance','Doors','Person','lug_boot','safety']].values\n",
    "x[0:5]\n",
    "print('Caracteristicas Originales: ',x)"
   ]
  },
  {
   "cell_type": "code",
   "execution_count": 6,
   "id": "f7675326",
   "metadata": {},
   "outputs": [
    {
     "name": "stdout",
     "output_type": "stream",
     "text": [
      "Datos procesados:\n",
      " [[3 3 0 0 2 1]\n",
      " [3 3 0 0 2 2]\n",
      " [3 3 0 0 2 0]\n",
      " ...\n",
      " [1 1 3 2 0 1]\n",
      " [1 1 3 2 0 2]\n",
      " [1 1 3 2 0 0]]\n"
     ]
    }
   ],
   "source": [
    "Buying = preprocessing.LabelEncoder()\n",
    "Buying.fit(['low','med','high','vhigh'])\n",
    "x[:,0] = Buying.transform(x[:,0])\n",
    "\n",
    "Maintenance = preprocessing.LabelEncoder()\n",
    "Maintenance.fit(['low','vhigh','high','med'])\n",
    "x[:,1] = Maintenance.transform(x[:,1])\n",
    "\n",
    "Doors = preprocessing.LabelEncoder()\n",
    "Doors.fit(['2','3','4','5more'])\n",
    "x[:,2] = Doors.transform(x[:,2])\n",
    "\n",
    "Person = preprocessing.LabelEncoder()\n",
    "Person.fit(['2','4','more'])\n",
    "x[:,3] = Person.transform(x[:,3])\n",
    "\n",
    "lug_boot = preprocessing.LabelEncoder()\n",
    "lug_boot.fit(['small','med','big'])\n",
    "x[:,4] = lug_boot.transform(x[:,4])\n",
    "\n",
    "safety = preprocessing.LabelEncoder()\n",
    "safety.fit(['low','med','high'])\n",
    "x[:,5] = safety.transform(x[:,5])\n",
    "\n",
    "x[0:5]\n",
    "print('Datos procesados:\\n',x)"
   ]
  },
  {
   "cell_type": "code",
   "execution_count": 7,
   "id": "5112d108",
   "metadata": {},
   "outputs": [
    {
     "name": "stdout",
     "output_type": "stream",
     "text": [
      "Clases:\n",
      " 0       unacc\n",
      "1       unacc\n",
      "2       unacc\n",
      "3       unacc\n",
      "4       unacc\n",
      "        ...  \n",
      "1745    vgood\n",
      "1746    vgood\n",
      "1747    unacc\n",
      "1748     good\n",
      "1749    vgood\n",
      "Name: class, Length: 1750, dtype: object\n"
     ]
    }
   ],
   "source": [
    "y = df['class']\n",
    "y[0:5]\n",
    "print('Clases:\\n',y)"
   ]
  },
  {
   "cell_type": "markdown",
   "id": "a0b719c1",
   "metadata": {},
   "source": [
    "## Caracterización del Dataset\n",
    "\n",
    "Se incluye una descripción de los datos con:\n",
    "\n",
    ">- Número de clases de la variable objetivo, indicando que representan dichas clases y el tipo de valor que toman.\n",
    ">- Número de instancias en total.\n",
    ">- Número de instancias pertenecientes a cada clase.\n",
    ">- Número de atributos de entrada, su significado y tipo.\n",
    ">- ¿Hay algún valor de atributo desconocido?\n",
    "\n",
    "Se incorporá una descripción (EDA) del conjunto de datos utilizado. Se analiza el dataset proporcionando, se muestra al menos algunas de sus características mediante tablas y al menos algunas de ellas en modo gráfico (p.ej., histogramas, diagramas de dispersión, diagramas de cajas y bigotes, etc.)\n"
   ]
  },
  {
   "cell_type": "markdown",
   "id": "c1e9b56e",
   "metadata": {},
   "source": [
    "Diferentes clases, mediante el metodo unique"
   ]
  },
  {
   "cell_type": "code",
   "execution_count": 8,
   "id": "cb5bdfc1",
   "metadata": {},
   "outputs": [
    {
     "name": "stdout",
     "output_type": "stream",
     "text": [
      "class: ['acc' 'good' 'unacc' 'vgood']\n"
     ]
    }
   ],
   "source": [
    "clases = np.unique(df['class'])\n",
    "print(f'class: {clases}')"
   ]
  },
  {
   "cell_type": "markdown",
   "id": "109647f6",
   "metadata": {},
   "source": [
    "Tipo de dato de la clase"
   ]
  },
  {
   "cell_type": "code",
   "execution_count": 9,
   "id": "dc5418bf",
   "metadata": {},
   "outputs": [
    {
     "data": {
      "text/plain": [
       "dtype('O')"
      ]
     },
     "execution_count": 9,
     "metadata": {},
     "output_type": "execute_result"
    }
   ],
   "source": [
    "np.array(df['class']).dtype"
   ]
  },
  {
   "cell_type": "markdown",
   "id": "96a64bd2",
   "metadata": {},
   "source": [
    "Numero de muestras por clase"
   ]
  },
  {
   "cell_type": "code",
   "execution_count": 10,
   "id": "9d5efc28",
   "metadata": {},
   "outputs": [
    {
     "data": {
      "text/plain": [
       "class\n",
       "unacc    1215\n",
       "acc       390\n",
       "good       75\n",
       "vgood      70\n",
       "Name: count, dtype: int64"
      ]
     },
     "execution_count": 10,
     "metadata": {},
     "output_type": "execute_result"
    }
   ],
   "source": [
    "df['class'].value_counts()"
   ]
  },
  {
   "cell_type": "markdown",
   "id": "49815fde",
   "metadata": {
    "ExecuteTime": {
     "end_time": "2022-03-14T15:56:34.366469Z",
     "start_time": "2022-03-14T15:56:34.358471Z"
    }
   },
   "source": [
    "## División del dataset en datos de entrenamiento y datos de test "
   ]
  },
  {
   "cell_type": "markdown",
   "id": "d1a3a514",
   "metadata": {},
   "source": [
    "Dividad entradas y clases, se considera solo la columna \"class\""
   ]
  },
  {
   "cell_type": "code",
   "execution_count": 11,
   "id": "d8119766",
   "metadata": {},
   "outputs": [],
   "source": [
    "Y = df['class']"
   ]
  },
  {
   "cell_type": "markdown",
   "id": "d9b50bd8",
   "metadata": {},
   "source": [
    "Se considera las columnas restantes"
   ]
  },
  {
   "cell_type": "code",
   "execution_count": 12,
   "id": "7058c53a",
   "metadata": {},
   "outputs": [],
   "source": [
    "X = df.drop(columns=['class'])"
   ]
  },
  {
   "cell_type": "markdown",
   "id": "87f85802",
   "metadata": {},
   "source": [
    "Entrenamiento de datos"
   ]
  },
  {
   "cell_type": "code",
   "execution_count": 13,
   "id": "c792ad1e",
   "metadata": {},
   "outputs": [],
   "source": [
    "X_df = df\n",
    "Y_df = X"
   ]
  },
  {
   "cell_type": "markdown",
   "id": "70f119cb",
   "metadata": {},
   "source": [
    "Número de atributos de la entrada"
   ]
  },
  {
   "cell_type": "code",
   "execution_count": 14,
   "id": "d6a45c25",
   "metadata": {},
   "outputs": [
    {
     "data": {
      "text/html": [
       "<div>\n",
       "<style scoped>\n",
       "    .dataframe tbody tr th:only-of-type {\n",
       "        vertical-align: middle;\n",
       "    }\n",
       "\n",
       "    .dataframe tbody tr th {\n",
       "        vertical-align: top;\n",
       "    }\n",
       "\n",
       "    .dataframe thead th {\n",
       "        text-align: right;\n",
       "    }\n",
       "</style>\n",
       "<table border=\"1\" class=\"dataframe\">\n",
       "  <thead>\n",
       "    <tr style=\"text-align: right;\">\n",
       "      <th></th>\n",
       "      <th>Buying</th>\n",
       "      <th>Maintenance</th>\n",
       "      <th>Doors</th>\n",
       "      <th>Person</th>\n",
       "      <th>lug_boot</th>\n",
       "      <th>safety</th>\n",
       "    </tr>\n",
       "  </thead>\n",
       "  <tbody>\n",
       "    <tr>\n",
       "      <th>count</th>\n",
       "      <td>1750</td>\n",
       "      <td>1750</td>\n",
       "      <td>1750</td>\n",
       "      <td>1750</td>\n",
       "      <td>1750</td>\n",
       "      <td>1750</td>\n",
       "    </tr>\n",
       "    <tr>\n",
       "      <th>unique</th>\n",
       "      <td>4</td>\n",
       "      <td>4</td>\n",
       "      <td>4</td>\n",
       "      <td>3</td>\n",
       "      <td>3</td>\n",
       "      <td>3</td>\n",
       "    </tr>\n",
       "    <tr>\n",
       "      <th>top</th>\n",
       "      <td>vhigh</td>\n",
       "      <td>low</td>\n",
       "      <td>2</td>\n",
       "      <td>4</td>\n",
       "      <td>big</td>\n",
       "      <td>high</td>\n",
       "    </tr>\n",
       "    <tr>\n",
       "      <th>freq</th>\n",
       "      <td>443</td>\n",
       "      <td>447</td>\n",
       "      <td>444</td>\n",
       "      <td>587</td>\n",
       "      <td>585</td>\n",
       "      <td>590</td>\n",
       "    </tr>\n",
       "  </tbody>\n",
       "</table>\n",
       "</div>"
      ],
      "text/plain": [
       "       Buying Maintenance Doors Person lug_boot safety\n",
       "count    1750        1750  1750   1750     1750   1750\n",
       "unique      4           4     4      3        3      3\n",
       "top     vhigh         low     2      4      big   high\n",
       "freq      443         447   444    587      585    590"
      ]
     },
     "execution_count": 14,
     "metadata": {},
     "output_type": "execute_result"
    }
   ],
   "source": [
    "X.describe()"
   ]
  },
  {
   "cell_type": "code",
   "execution_count": 15,
   "id": "12293dca",
   "metadata": {},
   "outputs": [
    {
     "name": "stdout",
     "output_type": "stream",
     "text": [
      "Cantidad de datos de entrenamiento:  (1400, 6) (1400,)\n",
      "Cantidad de datos de testeo:  (350, 6) (350,)\n"
     ]
    }
   ],
   "source": [
    "x_entre, x_test, y_entre, y_test = train_test_split(x, y,test_size=0.2, random_state= 1, shuffle= True)\n",
    "\n",
    "print('Cantidad de datos de entrenamiento: ',x_entre.shape, y_entre.shape)\n",
    "print('Cantidad de datos de testeo: ',x_test.shape, y_test.shape)"
   ]
  },
  {
   "cell_type": "markdown",
   "id": "e8a573f8",
   "metadata": {},
   "source": [
    "## Arbol de decisión CART seleccionando atributos GINI <br>\n",
    "\n",
    "Entrenamiento"
   ]
  },
  {
   "cell_type": "code",
   "execution_count": 16,
   "id": "7f8226a2",
   "metadata": {},
   "outputs": [],
   "source": [
    "models = []\n",
    "models.append(('LR', LogisticRegression(solver='liblinear', multi_class='ovr')))\n",
    "models.append(('Gini', DecisionTreeClassifier()))"
   ]
  },
  {
   "cell_type": "code",
   "execution_count": 17,
   "id": "788039bc",
   "metadata": {},
   "outputs": [
    {
     "name": "stdout",
     "output_type": "stream",
     "text": [
      "LR: 0.686429 (0.023354)\n",
      "Gini: 0.978571 (0.010102)\n"
     ]
    }
   ],
   "source": [
    "results = []\n",
    "names = []\n",
    "for name, model in models:\n",
    "    KFold = StratifiedKFold(n_splits=10, random_state=1, shuffle= True)\n",
    "    cv_results = cross_val_score(model, x_entre, y_entre, cv=KFold, scoring='accuracy')\n",
    "    results.append(cv_results)\n",
    "    names.append(name)\n",
    "    print('%s: %f (%f)' % (name, cv_results.mean(), cv_results.std()))"
   ]
  },
  {
   "cell_type": "code",
   "execution_count": 18,
   "id": "9e7ea97f",
   "metadata": {},
   "outputs": [
    {
     "data": {
      "image/png": "[encoded data removed]",
      "text/plain": [
       "<Figure size 640x480 with 1 Axes>"
      ]
     },
     "metadata": {},
     "output_type": "display_data"
    }
   ],
   "source": [
    "pyplot.boxplot(results, labels=names)\n",
    "pyplot.title('Comparacion de algoritmos')\n",
    "pyplot.show()"
   ]
  },
  {
   "cell_type": "markdown",
   "id": "b1eba217",
   "metadata": {},
   "source": [
    "Se evalua las predicciones, se evalua la predicción obtenida"
   ]
  },
  {
   "cell_type": "code",
   "execution_count": 19,
   "id": "49be2e9c",
   "metadata": {},
   "outputs": [
    {
     "name": "stdout",
     "output_type": "stream",
     "text": [
      "Predicción del model:\n",
      "  ['good' 'unacc' 'unacc' 'unacc' 'unacc']\n",
      "Valores reales:\n",
      " 1704     good\n",
      "1694    unacc\n",
      "47      unacc\n",
      "304     unacc\n",
      "534     unacc\n",
      "Name: class, dtype: object\n"
     ]
    }
   ],
   "source": [
    "#arbol_gini = DecisionTreeClassifier(criterion=\"gini\")\n",
    "arbol_gini = DecisionTreeClassifier(criterion=\"gini\", max_depth=15)\n",
    "arbol_gini.fit(x_entre,y_entre)\n",
    "gini_predictions = arbol_gini.predict(x_test)\n",
    "\n",
    "print('Predicción del model:\\n ',gini_predictions[0:5])\n",
    "print('Valores reales:\\n',y_test[0:5])"
   ]
  },
  {
   "cell_type": "markdown",
   "id": "a78601e4",
   "metadata": {},
   "source": [
    "Visualizacion del arbol"
   ]
  },
  {
   "cell_type": "code",
   "execution_count": 20,
   "id": "a457bff9",
   "metadata": {},
   "outputs": [
    {
     "ename": "NameError",
     "evalue": "name 'pydotplus' is not defined",
     "output_type": "error",
     "traceback": [
      "\u001b[1;31m---------------------------------------------------------------------------\u001b[0m",
      "\u001b[1;31mNameError\u001b[0m                                 Traceback (most recent call last)",
      "Cell \u001b[1;32mIn[20], line 2\u001b[0m\n\u001b[0;32m      1\u001b[0m data\u001b[38;5;241m=\u001b[39mtree\u001b[38;5;241m.\u001b[39mexport_graphviz(arbol_gini, out_file\u001b[38;5;241m=\u001b[39m\u001b[38;5;28;01mNone\u001b[39;00m, feature_names\u001b[38;5;241m=\u001b[39mdf\u001b[38;5;241m.\u001b[39mcolumns[\u001b[38;5;241m0\u001b[39m:\u001b[38;5;241m6\u001b[39m], class_names\u001b[38;5;241m=\u001b[39mnp\u001b[38;5;241m.\u001b[39munique(y_entre), filled\u001b[38;5;241m=\u001b[39m\u001b[38;5;28;01mTrue\u001b[39;00m, rounded\u001b[38;5;241m=\u001b[39m\u001b[38;5;28;01mTrue\u001b[39;00m, special_characters\u001b[38;5;241m=\u001b[39m\u001b[38;5;28;01mTrue\u001b[39;00m)\n\u001b[1;32m----> 2\u001b[0m graph \u001b[38;5;241m=\u001b[39m pydotplus\u001b[38;5;241m.\u001b[39mgraph_from_dot_data(data)\n\u001b[0;32m      3\u001b[0m graph\u001b[38;5;241m.\u001b[39mwrite_png(\u001b[38;5;124m'\u001b[39m\u001b[38;5;124mArbolGini.png\u001b[39m\u001b[38;5;124m'\u001b[39m)\n\u001b[0;32m      4\u001b[0m img \u001b[38;5;241m=\u001b[39m pltimg\u001b[38;5;241m.\u001b[39mimread(\u001b[38;5;124m'\u001b[39m\u001b[38;5;124mArbolGini.png\u001b[39m\u001b[38;5;124m'\u001b[39m)\n",
      "\u001b[1;31mNameError\u001b[0m: name 'pydotplus' is not defined"
     ]
    }
   ],
   "source": [
    "data=tree.export_graphviz(arbol_gini, out_file=None, feature_names=df.columns[0:6], class_names=np.unique(y_entre), filled=True, rounded=True, special_characters=True)\n",
    "graph = pydotplus.graph_from_dot_data(data)\n",
    "graph.write_png('ArbolGini.png')\n",
    "img = pltimg.imread('ArbolGini.png')\n",
    "imgplot = plt.imshow(img)\n",
    "plt.show()\n"
   ]
  },
  {
   "cell_type": "markdown",
   "id": "ca58e745",
   "metadata": {},
   "source": [
    "Evaluacion del modelo y observar la predicción"
   ]
  },
  {
   "cell_type": "code",
   "execution_count": 640,
   "id": "57a00825",
   "metadata": {},
   "outputs": [
    {
     "name": "stdout",
     "output_type": "stream",
     "text": [
      "Presición del Arbol de Decisiciones\n",
      " 0.9771428571428571\n"
     ]
    }
   ],
   "source": [
    "print(\"Presición del Arbol de Decisiciones\\n\",metrics.accuracy_score(y_test,gini_predictions))"
   ]
  },
  {
   "cell_type": "code",
   "execution_count": 641,
   "id": "728f52d8",
   "metadata": {},
   "outputs": [
    {
     "data": {
      "image/png": "[encoded data removed]",
      "text/plain": [
       "<Figure size 500x500 with 1 Axes>"
      ]
     },
     "metadata": {},
     "output_type": "display_data"
    }
   ],
   "source": [
    "y_pred = arbol_gini.predict(x_test)\n",
    "matriz = confusion_matrix(y_test,y_pred)\n",
    "\n",
    "plot_confusion_matrix(conf_mat=matriz, figsize=(5,5),show_normed=False)\n",
    "plt.title('Matriz de Confusión Arbol de Decisiones CART gini')\n",
    "plt.tight_layout()"
   ]
  },
  {
   "cell_type": "code",
   "execution_count": 642,
   "id": "83599f59",
   "metadata": {},
   "outputs": [
    {
     "name": "stdout",
     "output_type": "stream",
     "text": [
      "              precision    recall  f1-score   support\n",
      "\n",
      "         acc       0.97      0.94      0.95        77\n",
      "        good       0.82      1.00      0.90        18\n",
      "       unacc       0.99      0.99      0.99       245\n",
      "       vgood       1.00      1.00      1.00        10\n",
      "\n",
      "    accuracy                           0.98       350\n",
      "   macro avg       0.95      0.98      0.96       350\n",
      "weighted avg       0.98      0.98      0.98       350\n",
      "\n"
     ]
    }
   ],
   "source": [
    "print(classification_report(y_test, gini_predictions, zero_division=1))"
   ]
  },
  {
   "cell_type": "markdown",
   "id": "81fb1eb6",
   "metadata": {},
   "source": [
    "## Arbol de decisión CART seleccionando atributos Entropy <br>\n",
    "\n",
    "Entrenamiento"
   ]
  },
  {
   "cell_type": "code",
   "execution_count": 643,
   "id": "58023bce",
   "metadata": {},
   "outputs": [],
   "source": [
    "models = []\n",
    "models.append(('LR', LogisticRegression(solver='liblinear', multi_class='ovr')))\n",
    "models.append(('entropy', DecisionTreeClassifier()))"
   ]
  },
  {
   "cell_type": "code",
   "execution_count": 644,
   "id": "d302dcf4",
   "metadata": {},
   "outputs": [
    {
     "name": "stdout",
     "output_type": "stream",
     "text": [
      "LR: 0.686429 (0.023354)\n",
      "entropy: 0.977143 (0.011429)\n"
     ]
    }
   ],
   "source": [
    "results = []\n",
    "names = []\n",
    "for name, model in models:\n",
    "    KFold = StratifiedKFold(n_splits=10, random_state=1, shuffle= True)\n",
    "    cv_results = cross_val_score(model, x_entre, y_entre, cv=KFold, scoring='accuracy')\n",
    "    results.append(cv_results)\n",
    "    names.append(name)\n",
    "    print('%s: %f (%f)' % (name, cv_results.mean(), cv_results.std()))"
   ]
  },
  {
   "cell_type": "code",
   "execution_count": 645,
   "id": "c5dd0e1c",
   "metadata": {},
   "outputs": [
    {
     "data": {
      "image/png": "[encoded data removed]",
      "text/plain": [
       "<Figure size 640x480 with 1 Axes>"
      ]
     },
     "metadata": {},
     "output_type": "display_data"
    }
   ],
   "source": [
    "pyplot.boxplot(results, labels=names)\n",
    "pyplot.title('Comparacion de algoritmos')\n",
    "pyplot.show()"
   ]
  },
  {
   "cell_type": "markdown",
   "id": "9d5d8673",
   "metadata": {},
   "source": [
    "Se evalua las predicciones, se evalua la predicción obtenida"
   ]
  },
  {
   "cell_type": "code",
   "execution_count": 646,
   "id": "53ad430a",
   "metadata": {},
   "outputs": [
    {
     "name": "stdout",
     "output_type": "stream",
     "text": [
      "Predicción del model:\n",
      "  ['good' 'unacc' 'unacc' 'unacc' 'unacc']\n",
      "Valores reales:\n",
      " 1704     good\n",
      "1694    unacc\n",
      "47      unacc\n",
      "304     unacc\n",
      "534     unacc\n",
      "Name: class, dtype: object\n"
     ]
    }
   ],
   "source": [
    "arbol_entropy = DecisionTreeClassifier(criterion=\"entropy\", max_depth=15)\n",
    "arbol_entropy.fit(x_entre,y_entre)\n",
    "entropy_predictions = arbol_entropy.predict(x_test)\n",
    "\n",
    "print('Predicción del model:\\n ',entropy_predictions[0:5])\n",
    "print('Valores reales:\\n',y_test[0:5])"
   ]
  },
  {
   "cell_type": "code",
   "execution_count": 647,
   "id": "382056d8",
   "metadata": {},
   "outputs": [
    {
     "data": {
      "image/png": "[encoded data removed]",
      "text/plain": [
       "<Figure size 640x480 with 1 Axes>"
      ]
     },
     "metadata": {},
     "output_type": "display_data"
    }
   ],
   "source": [
    "data=tree.export_graphviz(arbol_entropy, out_file=None, feature_names=df.columns[0:6], class_names=np.unique(y_entre), filled=True, rounded=True, special_characters=True)\n",
    "graph = pydotplus.graph_from_dot_data(data)\n",
    "graph.write_png('Arbol_Entropy.png')\n",
    "img = pltimg.imread('Arbol_Entropy.png')\n",
    "imgplot = plt.imshow(img)\n",
    "plt.show()\n"
   ]
  },
  {
   "cell_type": "markdown",
   "id": "e9072d6b",
   "metadata": {},
   "source": [
    "Evaluacion del modelo y observar la predicción"
   ]
  },
  {
   "cell_type": "code",
   "execution_count": 648,
   "id": "9d1530d5",
   "metadata": {},
   "outputs": [
    {
     "name": "stdout",
     "output_type": "stream",
     "text": [
      "Presición del Arbol de Decisiciones\n",
      " 0.9885714285714285\n"
     ]
    }
   ],
   "source": [
    "print(\"Presición del Arbol de Decisiciones\\n\",metrics.accuracy_score(y_test,entropy_predictions))"
   ]
  },
  {
   "cell_type": "code",
   "execution_count": 649,
   "id": "49530011",
   "metadata": {},
   "outputs": [
    {
     "data": {
      "image/png": "[encoded data removed]",
      "text/plain": [
       "<Figure size 500x500 with 1 Axes>"
      ]
     },
     "metadata": {},
     "output_type": "display_data"
    }
   ],
   "source": [
    "y_pred = arbol_entropy.predict(x_test)\n",
    "matriz = confusion_matrix(y_test,y_pred)\n",
    "\n",
    "plot_confusion_matrix(conf_mat=matriz, figsize=(5,5),show_normed=False)\n",
    "plt.title('Matriz de Confusión Arbol de Decisiones CART entropy')\n",
    "plt.tight_layout()"
   ]
  },
  {
   "cell_type": "code",
   "execution_count": 650,
   "id": "b7be6f3e",
   "metadata": {},
   "outputs": [
    {
     "name": "stdout",
     "output_type": "stream",
     "text": [
      "              precision    recall  f1-score   support\n",
      "\n",
      "         acc       1.00      0.96      0.98        77\n",
      "        good       0.82      1.00      0.90        18\n",
      "       unacc       1.00      1.00      1.00       245\n",
      "       vgood       1.00      1.00      1.00        10\n",
      "\n",
      "    accuracy                           0.99       350\n",
      "   macro avg       0.95      0.99      0.97       350\n",
      "weighted avg       0.99      0.99      0.99       350\n",
      "\n"
     ]
    }
   ],
   "source": [
    "print(classification_report(y_test, entropy_predictions, zero_division=1))"
   ]
  },
  {
   "cell_type": "markdown",
   "id": "3ae9184e",
   "metadata": {},
   "source": [
    "TP Rate\n"
   ]
  },
  {
   "cell_type": "code",
   "execution_count": 651,
   "id": "d3b96a02",
   "metadata": {},
   "outputs": [
    {
     "name": "stdout",
     "output_type": "stream",
     "text": [
      "TP Rate Clase 0: 0.961039\n",
      "TP Rate Clase 1: 1.000000\n",
      "TP Rate Clase 2: 0.995918\n",
      "TP Rate Clase 3: 1.000000\n"
     ]
    }
   ],
   "source": [
    "tp0 = matriz[0, 0]  # Verdadero positivos\n",
    "fp0 = matriz[0, 1]  # Falsos positivos\n",
    "fn0 = matriz[0, 2]  # Falsos negativos\n",
    "tn0 = matriz[0, 3]  # Verdaderos negativos\n",
    "\n",
    "fp1 = matriz[1, 0]  # Falsos positivos\n",
    "tp1 = matriz[1, 1]  # Verdaderos positivos\n",
    "fn1 = matriz[1, 2]  # Falsos negativos\n",
    "tn1 = matriz[1, 3]  # Verdaderos negativos\n",
    "\n",
    "fn2 = matriz[2, 0]  # Falsos negativos\n",
    "fp2 = matriz[2, 1]  # Falsos positivos\n",
    "tp2 = matriz[2, 2]  # Verdaderos positivo\n",
    "tn2 = matriz[2, 3]  # Verdaderos negativos\n",
    "\n",
    "tn3 = matriz[3, 0]  # Verdadero negativo\n",
    "fn3 = matriz[3, 1]  # Falsos negativo\n",
    "fp3 = matriz[3, 2]  # Falso positivo\n",
    "tp3 = matriz[3, 3]  # Verdaderos positivo\n",
    "\n",
    "# Calcular la especificidad\n",
    "TP_Rate0 = tp0 / (tp0 + fp0 + fn0 + tn0)\n",
    "TP_Rate1 = tp1 / (tp1 + fp1 + fn1 + tn1)\n",
    "TP_Rate2 = tp2 / (tp2 + fp2 + fn2 + tn2)\n",
    "TP_Rate3 = tp3 / (tp3 + fp3 + fn3 + tn3)\n",
    "\n",
    "print('TP Rate Clase 0: %.6f' % TP_Rate0)\n",
    "print('TP Rate Clase 1: %.6f' % TP_Rate1)\n",
    "print('TP Rate Clase 2: %.6f' % TP_Rate2)\n",
    "print('TP Rate Clase 3: %.6f' % TP_Rate3)"
   ]
  },
  {
   "cell_type": "markdown",
   "id": "922820af",
   "metadata": {},
   "source": [
    "TN Rate"
   ]
  },
  {
   "cell_type": "code",
   "execution_count": 652,
   "id": "155d470e",
   "metadata": {},
   "outputs": [
    {
     "name": "stdout",
     "output_type": "stream",
     "text": [
      "TN Rate Clase 0: 0.000000\n",
      "TN Rate Clase 1: 0.000000\n",
      "TN Rate Clase 2: 0.000000\n",
      "TN Rate Clase 3: 0.000000\n"
     ]
    }
   ],
   "source": [
    "tp0 = matriz[0, 0]  # Verdadero positivos\n",
    "fp0 = matriz[0, 1]  # Falsos positivos\n",
    "fn0 = matriz[0, 2]  # Falsos negativos\n",
    "tn0 = matriz[0, 3]  # Verdaderos negativos\n",
    "\n",
    "fp1 = matriz[1, 0]  # Falsos positivos\n",
    "tp1 = matriz[1, 1]  # Verdaderos positivos\n",
    "fn1 = matriz[1, 2]  # Falsos negativos\n",
    "tn1 = matriz[1, 3]  # Verdaderos negativos\n",
    "\n",
    "fn2 = matriz[2, 0]  # Falsos negativos\n",
    "fp2 = matriz[2, 1]  # Falsos positivos\n",
    "tp2 = matriz[2, 2]  # Verdaderos positivo\n",
    "tn2 = matriz[2, 3]  # Verdaderos negativos\n",
    "\n",
    "tn3 = matriz[3, 0]  # Verdadero negativo\n",
    "fn3 = matriz[3, 1]  # Falsos negativo\n",
    "fp3 = matriz[3, 2]  # Falso positivo\n",
    "tp3 = matriz[3, 3]  # Verdaderos positivo\n",
    "\n",
    "# Calcular la especificidad\n",
    "TN_Rate0 = tn0 / (tp0 + fp0 + fn0 + tn0)\n",
    "TN_Rate1 = tn1 / (tp1 + fp1 + fn1 + tn1)\n",
    "TN_Rate2 = tn2 / (tp2 + fp2 + fn2 + tn2)\n",
    "TN_Rate3 = tn3 / (tp3 + fp3 + fn3 + tn3)\n",
    "\n",
    "print('TN Rate Clase 0: %.6f' % TN_Rate0)\n",
    "print('TN Rate Clase 1: %.6f' % TN_Rate1)\n",
    "print('TN Rate Clase 2: %.6f' % TN_Rate2)\n",
    "print('TN Rate Clase 3: %.6f' % TN_Rate3)"
   ]
  },
  {
   "cell_type": "markdown",
   "id": "aa3daaa2",
   "metadata": {},
   "source": [
    "FP Rate"
   ]
  },
  {
   "cell_type": "code",
   "execution_count": 653,
   "id": "a6891706",
   "metadata": {},
   "outputs": [
    {
     "name": "stdout",
     "output_type": "stream",
     "text": [
      "FP Rate Clase 0: 0.038961\n",
      "FP Rate Clase 1: 0.000000\n",
      "FP Rate Clase 2: 0.004082\n",
      "FP Rate Clase 3: 0.000000\n"
     ]
    }
   ],
   "source": [
    "tp0 = matriz[0, 0]  # Verdadero positivos\n",
    "fp0 = matriz[0, 1]  # Falsos positivos\n",
    "fn0 = matriz[0, 2]  # Falsos negativos\n",
    "tn0 = matriz[0, 3]  # Verdaderos negativos\n",
    "\n",
    "fp1 = matriz[1, 0]  # Falsos positivos\n",
    "tp1 = matriz[1, 1]  # Verdaderos positivos\n",
    "fn1 = matriz[1, 2]  # Falsos negativos\n",
    "tn1 = matriz[1, 3]  # Verdaderos negativos\n",
    "\n",
    "fn2 = matriz[2, 0]  # Falsos negativos\n",
    "fp2 = matriz[2, 1]  # Falsos positivos\n",
    "tp2 = matriz[2, 2]  # Verdaderos positivo\n",
    "tn2 = matriz[2, 3]  # Verdaderos negativos\n",
    "\n",
    "tn3 = matriz[3, 0]  # Verdadero negativo\n",
    "fn3 = matriz[3, 1]  # Falsos negativo\n",
    "fp3 = matriz[3, 2]  # Falso positivo\n",
    "tp3 = matriz[3, 3]  # Verdaderos positivo\n",
    "\n",
    "# Calcular la especificidad\n",
    "FP_Rate0 = fp0 / (tp0 + fp0 + fn0 + tn0)\n",
    "FP_Rate1 = fp1 / (tp1 + fp1 + fn1 + tn1)\n",
    "FP_Rate2 = fp2 / (tp2 + fp2 + fn2 + tn2)\n",
    "FP_Rate3 = fp3 / (tp3 + fp3 + fn3 + tn3)\n",
    "\n",
    "print('FP Rate Clase 0: %.6f' % FP_Rate0)\n",
    "print('FP Rate Clase 1: %.6f' % FP_Rate1)\n",
    "print('FP Rate Clase 2: %.6f' % FP_Rate2)\n",
    "print('FP Rate Clase 3: %.6f' % FP_Rate3)"
   ]
  },
  {
   "cell_type": "markdown",
   "id": "15516822",
   "metadata": {},
   "source": [
    "FN Rate"
   ]
  },
  {
   "cell_type": "code",
   "execution_count": 654,
   "id": "7a9af9e8",
   "metadata": {},
   "outputs": [
    {
     "name": "stdout",
     "output_type": "stream",
     "text": [
      "FN Rate Clase 0: 0.000000\n",
      "FN Rate Clase 1: 0.000000\n",
      "FN Rate Clase 2: 0.000000\n",
      "FN Rate Clase 3: 0.000000\n"
     ]
    }
   ],
   "source": [
    "tp0 = matriz[0, 0]  # Verdadero positivos\n",
    "fp0 = matriz[0, 1]  # Falsos positivos\n",
    "fn0 = matriz[0, 2]  # Falsos negativos\n",
    "tn0 = matriz[0, 3]  # Verdaderos negativos\n",
    "\n",
    "fp1 = matriz[1, 0]  # Falsos positivos\n",
    "tp1 = matriz[1, 1]  # Verdaderos positivos\n",
    "fn1 = matriz[1, 2]  # Falsos negativos\n",
    "tn1 = matriz[1, 3]  # Verdaderos negativos\n",
    "\n",
    "fn2 = matriz[2, 0]  # Falsos negativos\n",
    "fp2 = matriz[2, 1]  # Falsos positivos\n",
    "tp2 = matriz[2, 2]  # Verdaderos positivo\n",
    "tn2 = matriz[2, 3]  # Verdaderos negativos\n",
    "\n",
    "tn3 = matriz[3, 0]  # Verdadero negativo\n",
    "fn3 = matriz[3, 1]  # Falsos negativo\n",
    "fp3 = matriz[3, 2]  # Falso positivo\n",
    "tp3 = matriz[3, 3]  # Verdaderos positivo\n",
    "\n",
    "# Calcular la especificidad\n",
    "FN_Rate0 = fn0 / (tp0 + fp0 + fn0 + tn0)\n",
    "FN_Rate1 = fn1 / (tp1 + fp1 + fn1 + tn1)\n",
    "FN_Rate2 = fn2 / (tp2 + fp2 + fn2 + tn2)\n",
    "FN_Rate3 = fn3 / (tp3 + fp3 + fn3 + tn3)\n",
    "\n",
    "print('FN Rate Clase 0: %.6f' % FN_Rate0)\n",
    "print('FN Rate Clase 1: %.6f' % FN_Rate1)\n",
    "print('FN Rate Clase 2: %.6f' % FN_Rate2)\n",
    "print('FN Rate Clase 3: %.6f' % FN_Rate3)"
   ]
  },
  {
   "cell_type": "code",
   "execution_count": 655,
   "id": "36fde6ca",
   "metadata": {},
   "outputs": [
    {
     "name": "stdout",
     "output_type": "stream",
     "text": [
      "Exactitud : 0.988571\n",
      "Precision: 0.988571\n",
      "Sensibilidad : 0.988571\n",
      "F1: 0.988571\n"
     ]
    }
   ],
   "source": [
    "print('Exactitud : %.6f' % accuracy_score(y_test, y_pred))\n",
    "print('Precision: %.6f' % precision_score(y_test, y_pred, average='micro'))\n",
    "print('Sensibilidad : %.6f' % recall_score(y_test, y_pred, average='micro'))\n",
    "print('F1: %.6f' % f1_score(y_test, y_pred, average='micro'))"
   ]
  },
  {
   "cell_type": "code",
   "execution_count": 656,
   "id": "36f1572b",
   "metadata": {},
   "outputs": [
    {
     "name": "stdout",
     "output_type": "stream",
     "text": [
      "Profundidad del bosque:  5\n",
      "              precision    recall  f1-score   support\n",
      "\n",
      "         acc       0.76      0.70      0.73        77\n",
      "        good       1.00      0.00      0.00        18\n",
      "       unacc       0.94      0.96      0.95       245\n",
      "       vgood       0.33      1.00      0.50        10\n",
      "\n",
      "    accuracy                           0.85       350\n",
      "   macro avg       0.76      0.67      0.55       350\n",
      "weighted avg       0.89      0.85      0.84       350\n",
      "\n",
      "Profundidad del bosque:  20\n",
      "              precision    recall  f1-score   support\n",
      "\n",
      "         acc       0.99      0.95      0.97        77\n",
      "        good       0.82      1.00      0.90        18\n",
      "       unacc       1.00      0.99      0.99       245\n",
      "       vgood       1.00      1.00      1.00        10\n",
      "\n",
      "    accuracy                           0.98       350\n",
      "   macro avg       0.95      0.98      0.97       350\n",
      "weighted avg       0.98      0.98      0.98       350\n",
      "\n",
      "Profundidad del bosque:  40\n",
      "              precision    recall  f1-score   support\n",
      "\n",
      "         acc       0.99      0.95      0.97        77\n",
      "        good       0.77      0.94      0.85        18\n",
      "       unacc       1.00      1.00      1.00       245\n",
      "       vgood       1.00      1.00      1.00        10\n",
      "\n",
      "    accuracy                           0.98       350\n",
      "   macro avg       0.94      0.97      0.95       350\n",
      "weighted avg       0.99      0.98      0.98       350\n",
      "\n",
      "Profundidad del bosque:  80\n",
      "              precision    recall  f1-score   support\n",
      "\n",
      "         acc       0.99      0.95      0.97        77\n",
      "        good       0.77      0.94      0.85        18\n",
      "       unacc       1.00      1.00      1.00       245\n",
      "       vgood       1.00      1.00      1.00        10\n",
      "\n",
      "    accuracy                           0.98       350\n",
      "   macro avg       0.94      0.97      0.95       350\n",
      "weighted avg       0.99      0.98      0.98       350\n",
      "\n"
     ]
    },
    {
     "data": {
      "image/png": "[encoded data removed]",
      "text/plain": [
       "<Figure size 500x500 with 1 Axes>"
      ]
     },
     "metadata": {},
     "output_type": "display_data"
    },
    {
     "data": {
      "image/png": "[encoded data removed]",
      "text/plain": [
       "<Figure size 500x500 with 1 Axes>"
      ]
     },
     "metadata": {},
     "output_type": "display_data"
    },
    {
     "data": {
      "image/png": "[encoded data removed]",
      "text/plain": [
       "<Figure size 500x500 with 1 Axes>"
      ]
     },
     "metadata": {},
     "output_type": "display_data"
    },
    {
     "data": {
      "image/png": "[encoded data removed]",
      "text/plain": [
       "<Figure size 500x500 with 1 Axes>"
      ]
     },
     "metadata": {},
     "output_type": "display_data"
    }
   ],
   "source": [
    "for profundidad in [5,20,40,80]:\n",
    "    print('Profundidad del bosque: ', profundidad)\n",
    "    arbol_entropy_mejorado = DecisionTreeClassifier(criterion='entropy', max_depth=profundidad)\n",
    "    arbol_entropy_mejorado.fit(x_entre, y_entre)\n",
    "    predictions_entropy_mejorado = arbol_entropy_mejorado.predict(x_test)\n",
    "    y_pred_mejorada = arbol_entropy_mejorado.predict(x_test)\n",
    "    matriz_mejorada = confusion_matrix(y_test, y_pred_mejorada)\n",
    "    plot_confusion_matrix(conf_mat=matriz_mejorada, figsize=(5,5),show_normed=False)\n",
    "    #plt.title('Profundidad del bosque: ', profundidad)\n",
    "    plt.tight_layout()\n",
    "    print(classification_report(y_test, predictions_entropy_mejorado, zero_division=1))"
   ]
  }
 ],
 "metadata": {
  "kernelspec": {
   "display_name": "Python 3 (ipykernel)",
   "language": "python",
   "name": "python3"
  },
  "language_info": {
   "codemirror_mode": {
    "name": "ipython",
    "version": 3
   },
   "file_extension": ".py",
   "mimetype": "text/x-python",
   "name": "python",
   "nbconvert_exporter": "python",
   "pygments_lexer": "ipython3",
   "version": "3.11.7"
  },
  "toc": {
   "base_numbering": 1,
   "nav_menu": {},
   "number_sections": true,
   "sideBar": true,
   "skip_h1_title": true,
   "title_cell": "Tabla de Contenido",
   "title_sidebar": "Contenido",
   "toc_cell": false,
   "toc_position": {
    "height": "calc(100% - 180px)",
    "left": "10px",
    "top": "150px",
    "width": "337.597px"
   },
   "toc_section_display": true,
   "toc_window_display": true
  }
 },
 "nbformat": 4,
 "nbformat_minor": 5
}
